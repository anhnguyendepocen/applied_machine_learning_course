{
 "cells": [
  {
   "cell_type": "markdown",
   "metadata": {
    "slideshow": {
     "slide_type": "slide"
    }
   },
   "source": [
    "# Math for Data Science - Statistics "
   ]
  },
  {
   "cell_type": "markdown",
   "metadata": {},
   "source": [
    "### What is Statistic?\n",
    "---------------------------------------"
   ]
  },
  {
   "cell_type": "markdown",
   "metadata": {},
   "source": [
    "- Dictionary Definition: A fact or piece of data obtained from a study of large quantity of numerical data.\n",
    "- In general sense : The science of collecting, organizing presenting and interpreting data.\n",
    "* Statistics is often categorized into descriptive and inferential statistics.\n",
    "* It uses graphical methods to help makingnumbers visible for communicationpurposes.\n",
    "* It uses analytical methods which providethe math to model and predict variation.\n",
    "\n",
    "**In Nutshell**\n",
    "\n",
    "<img src='stats_in_nutshell.png' height=200px, width=500px>"
   ]
  },
  {
   "cell_type": "markdown",
   "metadata": {},
   "source": [
    "### Why do we need Statistics?\n",
    "---------------------------------------"
   ]
  },
  {
   "cell_type": "markdown",
   "metadata": {},
   "source": [
    "- To understand data better.\n",
    "- To make effective decisions.\n",
    "\n",
    "<img src='stats.png' height=100px, width=400px>"
   ]
  },
  {
   "cell_type": "markdown",
   "metadata": {},
   "source": [
    "### What are various types of Statistics?\n",
    "---------------------------------------"
   ]
  },
  {
   "cell_type": "markdown",
   "metadata": {},
   "source": [
    "**Types of Statistics:**\n",
    "* Descriptive Statistics - collection, presentation, description of data\n",
    "* Inferential Statistics - making decisions and drawing conclusions about populations.\n",
    "\n",
    "<img src='types_of_stats.png' height=200px, width=600px>"
   ]
  },
  {
   "cell_type": "markdown",
   "metadata": {},
   "source": [
    "### What are Descriptive Statistics?\n",
    "---------------------------------------"
   ]
  },
  {
   "cell_type": "markdown",
   "metadata": {},
   "source": [
    "* Descriptive statistics involves describing, summarizing and organizing the data so it can be easily understood.\n",
    "* Enable us to present the data in a more meaningful way, which allows simpler interpretation of the data.\n",
    "* Typically, there are two general types of statistic that are used to describe data:\n",
    "    * **Measures of central tendency:** these are ways of describing the central position of a frequency distribution for a group of data.\n",
    "        * To describe this central position we use measures such as **mode, median, and mean.**\n",
    "    * **Measures of spread:** these are ways of summarizing a group of data by describing how spread out the scores are.\n",
    "        * To describe this spread we use measures such as **range, quartiles, variance and standard deviation.**\n",
    "\n",
    "\n",
    "<img src='descriptive_stats.png' height=200px, width=550px>"
   ]
  },
  {
   "cell_type": "markdown",
   "metadata": {},
   "source": [
    "### What are the Measures of Central Tendency?\n",
    "---------------------------------------"
   ]
  },
  {
   "cell_type": "markdown",
   "metadata": {},
   "source": [
    "* Used to summarise where the 'centre' of the data is.\n",
    "\n",
    "<img src='measures_of_central_tendency.png' height=200px, width=550px>"
   ]
  },
  {
   "cell_type": "markdown",
   "metadata": {},
   "source": [
    "### Measures of Central Tendency - In Layman's Terms\n",
    "---------------------------------------"
   ]
  },
  {
   "cell_type": "markdown",
   "metadata": {},
   "source": [
    "<img src='central_tendecny_formula.png' height=200px, width=300px>"
   ]
  },
  {
   "cell_type": "code",
   "execution_count": 26,
   "metadata": {},
   "outputs": [
    {
     "name": "stdout",
     "output_type": "stream",
     "text": [
      "total_marks :  1035\n",
      "no.of students :  8\n",
      "mean:  129.375\n"
     ]
    }
   ],
   "source": [
    "marks=[2,3,4,5,6,7,8,1000]\n",
    "sum_of_marks=0\n",
    "\n",
    "for i in marks:\n",
    "    sum_of_marks=sum_of_marks+i\n",
    "\n",
    "print('total_marks : ',sum_of_marks)\n",
    "print('no.of students : ',len(marks))\n",
    "print('mean: ',sum_of_marks/len(marks))"
   ]
  },
  {
   "cell_type": "markdown",
   "metadata": {},
   "source": [
    "### Mean\n",
    "----------------------------------------"
   ]
  },
  {
   "cell_type": "markdown",
   "metadata": {},
   "source": [
    "* The mean is also called as arithmetic average.\n",
    "* To calculate the average, or mean, add all values, then divide by the number of individuals. \n",
    "* It is the “center of mass.”\n",
    "* Mean gets affected by the extreme values (Outliers).\n",
    "\n",
    "<img src='mean_ex.png' height=200px, width=500px>"
   ]
  },
  {
   "cell_type": "markdown",
   "metadata": {},
   "source": [
    "### Median\n",
    "---------------------------------------"
   ]
  },
  {
   "cell_type": "markdown",
   "metadata": {},
   "source": [
    "* The Median (M) is often called the \"middle\" value and is the value at the midpoint of the observations when they are ranked from smallest to largest value.\n",
    "* In an ordered array, the **median** is the **middle** number i.e., the number that splits the distribution in half.\n",
    "* The median is not affected by the extreme values (Outliers).\n",
    "\n",
    "**Steps to get median:**\n",
    "* Arrange the data from smallest to largest\n",
    "* If n is odd then the median is the single observation in the center (at the (n+1)/2 position in the ordering)\n",
    "* If n is even then the median is the average of the two middle observations (at the (n+1)/2 position; i.e., in between)\n",
    "\n",
    "<img src='median2_ex.png' height=200px, width=500px>"
   ]
  },
  {
   "cell_type": "code",
   "execution_count": 33,
   "metadata": {},
   "outputs": [
    {
     "name": "stdout",
     "output_type": "stream",
     "text": [
      "salaries :  [2, 3, 4, 5, 6, 7, 8, 1000]\n",
      "no.of data points :  8\n",
      "mid element index :  4.0\n",
      "median:  5.5\n"
     ]
    }
   ],
   "source": [
    "salaries=[2,2,2,3,3,3,4,4,4,5,5,5,5,6,7,8,1000]\n",
    "salaries.sort()\n",
    "print('salaries : ',salaries)\n",
    "print('no.of data points : ',len(salaries))\n",
    "print('mid element index : ',len(salaries)/2)\n",
    "print('median: ',(salaries[3]+salaries[4])/2)"
   ]
  },
  {
   "cell_type": "markdown",
   "metadata": {},
   "source": [
    "### Mode\n",
    "---------------------------------------"
   ]
  },
  {
   "cell_type": "markdown",
   "metadata": {},
   "source": [
    "* Mode is the value that occurs most often.\n",
    "* Mode is not affected by extreme values (Outliers).\n",
    "* Mode is userd for either numerical or categorical data.\n",
    "* There may be no mode.\n",
    "* There may be serveral modes (Multi Modal)\n",
    "\n",
    "<img src='mode_ex.png' height=200px, width=500px>"
   ]
  },
  {
   "cell_type": "code",
   "execution_count": null,
   "metadata": {},
   "outputs": [],
   "source": [
    "Data Imputation - Mean, Median, Mode, SD\n",
    "\n",
    "Student:\n",
    "--------\n",
    "Name, Age, Gender, School, Marks, No.Of Siblings\n",
    "\n",
    "Quantitative: Age, Marks, No.of Siblings\n",
    "    Descrete (Whole Number): No.of Siblings 2\n",
    "    Continues (Real Number): Age (15.5), Marks (92.4)\n",
    "    \n",
    "Qualitative: Name, Gender, School\n",
    "[1,2,2,2,2,2,2,2,            ,100,200,300]"
   ]
  },
  {
   "cell_type": "markdown",
   "metadata": {},
   "source": [
    "### Measure of Central Tendency Most Useful When?\n",
    "---------------------------------------"
   ]
  },
  {
   "cell_type": "markdown",
   "metadata": {},
   "source": [
    "<img src='centran_tendecy_useful_when.png' height=250px, width=600px>"
   ]
  },
  {
   "cell_type": "markdown",
   "metadata": {},
   "source": [
    "### What are the Measures of Spread?\n",
    "---------------------------------------"
   ]
  },
  {
   "cell_type": "markdown",
   "metadata": {},
   "source": [
    "* Measures of Spread tells us how much a data sample is spread out or scattered.\n",
    "* Measures of Spread\n",
    "    * **Range**\n",
    "    * **Inter Quartile Range**\n",
    "    * **Standard Deviation**\n",
    "    * **Variance**"
   ]
  },
  {
   "cell_type": "markdown",
   "metadata": {},
   "source": [
    "### Range\n",
    "---------------------------------------"
   ]
  },
  {
   "cell_type": "markdown",
   "metadata": {},
   "source": [
    "* The range is the Maximum value minus the minimum value and gives the full extent of the range of observations. \n",
    "* Notice that the range is one number, the difference between the Maximum and the minimum."
   ]
  },
  {
   "cell_type": "markdown",
   "metadata": {},
   "source": [
    "### Inter Quartile Range (IQR)\n",
    "---------------------------------------"
   ]
  },
  {
   "cell_type": "markdown",
   "metadata": {},
   "source": [
    "* The Inter‐Quartile Range (or sometimes Inner‐Quartile Range).\n",
    "* We will use the notation IQR – is defined as the difference between the 3rd quartile and the 1st quartile.\n",
    "* Notice that the IQR gives the range of the middle 50% of the data.\n",
    "\n",
    "<img src='iqr.png' height=200px, width=400px>"
   ]
  },
  {
   "cell_type": "markdown",
   "metadata": {},
   "source": [
    "### Standard Deviation\n",
    "---------------------------------------"
   ]
  },
  {
   "cell_type": "markdown",
   "metadata": {},
   "source": [
    "* Quantify spread of the distribution by measuring how far observations are from mean,\n",
    "* In other terms this measure is based upon the deviations of each value from the mean or average value.\n",
    "* The interpretation of the standard deviation is as the typical or average distance between observed data values and the sample mean\n",
    "* To calculate the standard deviation, we take each observation and subtract the sample mean, x‐bar.\n",
    "* We square each of the differences, and add these squared deviations.\n",
    "* We divide that total by n – 1 where n is the number of observations.\n",
    "* At this stage we have what is called the **variance, or s‐squared.**\n",
    "* This is sometimes used in statistical methods, however, it is in units which are the square of the original units which makes it difficult to interpret.\n",
    "* We take the square root to obtain the final result for the standard deviation, s. This value will have the units of the original data and have the interpretation of the typical distance an observation differs from the sample mean.\n",
    "* Because each value is weighted equally, the standard deviation is influenced by outliers and extreme values. \n",
    "* In some scenarios, the standard deviation is less reliable than the mean in this regard and should be used with caution for highly skewed distribution or distributions with extreme outliers. Even moderate skewness and relatively mild outliers can have a dramatic impact on the standard deviation.\n",
    "\n",
    "**Variance**\n",
    "\n",
    "<img src='variance.png' height=100px, width=200px>"
   ]
  },
  {
   "cell_type": "markdown",
   "metadata": {},
   "source": [
    "**Standard Deviation**\n",
    "\n",
    "<img src='sd.png' height=100px, width=200px>"
   ]
  },
  {
   "cell_type": "markdown",
   "metadata": {},
   "source": [
    "### Variance and Standard Deviation of a Population\n",
    "---------------------------------------"
   ]
  },
  {
   "cell_type": "markdown",
   "metadata": {},
   "source": [
    "<img src='sd_population.png' height=300px, width=500px>"
   ]
  },
  {
   "cell_type": "markdown",
   "metadata": {},
   "source": [
    "### What are the key properties of Standard Deviation?\n",
    "---------------------------------------"
   ]
  },
  {
   "cell_type": "markdown",
   "metadata": {},
   "source": [
    "#### Properties of The Standard Deviation (*s*)\n",
    "* Standard Deviation *s* measures the spread about the mean and should be used only when mean is choosen as the measure of center.\n",
    "* Standard Deviation *s=0*, only when there is **no spread** . This happens only when all observations have the same value. Otherwise, *s>0*.\n",
    "* As, the observations become more spread out about their mean, *s* gets larger.\n",
    "* Standard Deviation *s*, is not resistant to outliers. A few outliers can make *s* very large"
   ]
  },
  {
   "cell_type": "markdown",
   "metadata": {},
   "source": [
    "### What is the Five‐Number Summary?\n",
    "---------------------------------------"
   ]
  },
  {
   "cell_type": "markdown",
   "metadata": {},
   "source": [
    "#### The Five-Numer Summary:\n",
    "* The five values: minimum, Q1, Median, Q3, and Maximum make up what is commonly called “the five‐number summary”. \n",
    "* Each of these values represents a measure of position or location.\n",
    "* As mentioned abobe, the Five-Numer Summary of a set of obsercations consists of the smallest observation, the first quartile, the median, the third quartile and the largest observation, written in order from smallest to largest.\n",
    "* **Minimum Q1 Median Q3 Maximum**"
   ]
  },
  {
   "cell_type": "markdown",
   "metadata": {},
   "source": [
    "### How to represent Five Number Summary using Box Plot?\n",
    "---------------------------------------"
   ]
  },
  {
   "cell_type": "markdown",
   "metadata": {},
   "source": [
    "<img src='box_plot.png' height=300px, width=500px>"
   ]
  },
  {
   "cell_type": "code",
   "execution_count": 27,
   "metadata": {},
   "outputs": [
    {
     "data": {
      "text/html": [
       "<div>\n",
       "<style scoped>\n",
       "    .dataframe tbody tr th:only-of-type {\n",
       "        vertical-align: middle;\n",
       "    }\n",
       "\n",
       "    .dataframe tbody tr th {\n",
       "        vertical-align: top;\n",
       "    }\n",
       "\n",
       "    .dataframe thead th {\n",
       "        text-align: right;\n",
       "    }\n",
       "</style>\n",
       "<table border=\"1\" class=\"dataframe\">\n",
       "  <thead>\n",
       "    <tr style=\"text-align: right;\">\n",
       "      <th></th>\n",
       "      <th>data</th>\n",
       "    </tr>\n",
       "  </thead>\n",
       "  <tbody>\n",
       "    <tr>\n",
       "      <th>0</th>\n",
       "      <td>0</td>\n",
       "    </tr>\n",
       "    <tr>\n",
       "      <th>1</th>\n",
       "      <td>1</td>\n",
       "    </tr>\n",
       "    <tr>\n",
       "      <th>2</th>\n",
       "      <td>2</td>\n",
       "    </tr>\n",
       "    <tr>\n",
       "      <th>3</th>\n",
       "      <td>3</td>\n",
       "    </tr>\n",
       "    <tr>\n",
       "      <th>4</th>\n",
       "      <td>4</td>\n",
       "    </tr>\n",
       "  </tbody>\n",
       "</table>\n",
       "</div>"
      ],
      "text/plain": [
       "   data\n",
       "0     0\n",
       "1     1\n",
       "2     2\n",
       "3     3\n",
       "4     4"
      ]
     },
     "execution_count": 27,
     "metadata": {},
     "output_type": "execute_result"
    }
   ],
   "source": [
    "import pandas as pd\n",
    "data=pd.DataFrame({'data':[i for i in range(101)]})\n",
    "data.head()"
   ]
  },
  {
   "cell_type": "code",
   "execution_count": 28,
   "metadata": {},
   "outputs": [
    {
     "data": {
      "text/plain": [
       "101"
      ]
     },
     "execution_count": 28,
     "metadata": {},
     "output_type": "execute_result"
    }
   ],
   "source": [
    "data.shape[0]"
   ]
  },
  {
   "cell_type": "code",
   "execution_count": 26,
   "metadata": {},
   "outputs": [
    {
     "data": {
      "text/plain": [
       "99"
      ]
     },
     "execution_count": 26,
     "metadata": {},
     "output_type": "execute_result"
    }
   ],
   "source": [
    "data.data[99]"
   ]
  },
  {
   "cell_type": "code",
   "execution_count": 29,
   "metadata": {},
   "outputs": [
    {
     "data": {
      "text/html": [
       "<div>\n",
       "<style scoped>\n",
       "    .dataframe tbody tr th:only-of-type {\n",
       "        vertical-align: middle;\n",
       "    }\n",
       "\n",
       "    .dataframe tbody tr th {\n",
       "        vertical-align: top;\n",
       "    }\n",
       "\n",
       "    .dataframe thead th {\n",
       "        text-align: right;\n",
       "    }\n",
       "</style>\n",
       "<table border=\"1\" class=\"dataframe\">\n",
       "  <thead>\n",
       "    <tr style=\"text-align: right;\">\n",
       "      <th></th>\n",
       "      <th>count</th>\n",
       "      <th>mean</th>\n",
       "      <th>std</th>\n",
       "      <th>min</th>\n",
       "      <th>25%</th>\n",
       "      <th>50%</th>\n",
       "      <th>75%</th>\n",
       "      <th>max</th>\n",
       "    </tr>\n",
       "  </thead>\n",
       "  <tbody>\n",
       "    <tr>\n",
       "      <th>data</th>\n",
       "      <td>101.0</td>\n",
       "      <td>50.0</td>\n",
       "      <td>29.300171</td>\n",
       "      <td>0.0</td>\n",
       "      <td>25.0</td>\n",
       "      <td>50.0</td>\n",
       "      <td>75.0</td>\n",
       "      <td>100.0</td>\n",
       "    </tr>\n",
       "  </tbody>\n",
       "</table>\n",
       "</div>"
      ],
      "text/plain": [
       "      count  mean        std  min   25%   50%   75%    max\n",
       "data  101.0  50.0  29.300171  0.0  25.0  50.0  75.0  100.0"
      ]
     },
     "execution_count": 29,
     "metadata": {},
     "output_type": "execute_result"
    }
   ],
   "source": [
    "data.describe().T"
   ]
  },
  {
   "cell_type": "code",
   "execution_count": 24,
   "metadata": {},
   "outputs": [
    {
     "data": {
      "text/plain": [
       "49.5"
      ]
     },
     "execution_count": 24,
     "metadata": {},
     "output_type": "execute_result"
    }
   ],
   "source": [
    "(data.data[49] + data.data[50])/2"
   ]
  },
  {
   "cell_type": "code",
   "execution_count": 19,
   "metadata": {},
   "outputs": [
    {
     "data": {
      "text/plain": [
       "0.25    24.75\n",
       "0.50    49.50\n",
       "0.75    74.25\n",
       "Name: data, dtype: float64"
      ]
     },
     "execution_count": 19,
     "metadata": {},
     "output_type": "execute_result"
    }
   ],
   "source": [
    "data.data.quantile([0.25,0.5,0.75])"
   ]
  },
  {
   "cell_type": "code",
   "execution_count": 34,
   "metadata": {},
   "outputs": [
    {
     "data": {
      "text/html": [
       "<div>\n",
       "<style scoped>\n",
       "    .dataframe tbody tr th:only-of-type {\n",
       "        vertical-align: middle;\n",
       "    }\n",
       "\n",
       "    .dataframe tbody tr th {\n",
       "        vertical-align: top;\n",
       "    }\n",
       "\n",
       "    .dataframe thead th {\n",
       "        text-align: right;\n",
       "    }\n",
       "</style>\n",
       "<table border=\"1\" class=\"dataframe\">\n",
       "  <thead>\n",
       "    <tr style=\"text-align: right;\">\n",
       "      <th></th>\n",
       "      <th>age</th>\n",
       "    </tr>\n",
       "  </thead>\n",
       "  <tbody>\n",
       "    <tr>\n",
       "      <th>0</th>\n",
       "      <td>3</td>\n",
       "    </tr>\n",
       "    <tr>\n",
       "      <th>1</th>\n",
       "      <td>4</td>\n",
       "    </tr>\n",
       "    <tr>\n",
       "      <th>2</th>\n",
       "      <td>5</td>\n",
       "    </tr>\n",
       "    <tr>\n",
       "      <th>3</th>\n",
       "      <td>3</td>\n",
       "    </tr>\n",
       "    <tr>\n",
       "      <th>4</th>\n",
       "      <td>4</td>\n",
       "    </tr>\n",
       "    <tr>\n",
       "      <th>5</th>\n",
       "      <td>6</td>\n",
       "    </tr>\n",
       "    <tr>\n",
       "      <th>6</th>\n",
       "      <td>20</td>\n",
       "    </tr>\n",
       "    <tr>\n",
       "      <th>7</th>\n",
       "      <td>5</td>\n",
       "    </tr>\n",
       "    <tr>\n",
       "      <th>8</th>\n",
       "      <td>20</td>\n",
       "    </tr>\n",
       "  </tbody>\n",
       "</table>\n",
       "</div>"
      ],
      "text/plain": [
       "   age\n",
       "0    3\n",
       "1    4\n",
       "2    5\n",
       "3    3\n",
       "4    4\n",
       "5    6\n",
       "6   20\n",
       "7    5\n",
       "8   20"
      ]
     },
     "execution_count": 34,
     "metadata": {},
     "output_type": "execute_result"
    }
   ],
   "source": [
    "l=[3,4,5,3,4,6,20,5,20]\n",
    "stundetns_data=pd.DataFrame({'age':l})\n",
    "stundetns_data"
   ]
  },
  {
   "cell_type": "code",
   "execution_count": 35,
   "metadata": {},
   "outputs": [
    {
     "data": {
      "text/html": [
       "<div>\n",
       "<style scoped>\n",
       "    .dataframe tbody tr th:only-of-type {\n",
       "        vertical-align: middle;\n",
       "    }\n",
       "\n",
       "    .dataframe tbody tr th {\n",
       "        vertical-align: top;\n",
       "    }\n",
       "\n",
       "    .dataframe thead th {\n",
       "        text-align: right;\n",
       "    }\n",
       "</style>\n",
       "<table border=\"1\" class=\"dataframe\">\n",
       "  <thead>\n",
       "    <tr style=\"text-align: right;\">\n",
       "      <th></th>\n",
       "      <th>count</th>\n",
       "      <th>mean</th>\n",
       "      <th>std</th>\n",
       "      <th>min</th>\n",
       "      <th>25%</th>\n",
       "      <th>50%</th>\n",
       "      <th>75%</th>\n",
       "      <th>max</th>\n",
       "    </tr>\n",
       "  </thead>\n",
       "  <tbody>\n",
       "    <tr>\n",
       "      <th>age</th>\n",
       "      <td>9.0</td>\n",
       "      <td>7.777778</td>\n",
       "      <td>6.996031</td>\n",
       "      <td>3.0</td>\n",
       "      <td>4.0</td>\n",
       "      <td>5.0</td>\n",
       "      <td>6.0</td>\n",
       "      <td>20.0</td>\n",
       "    </tr>\n",
       "  </tbody>\n",
       "</table>\n",
       "</div>"
      ],
      "text/plain": [
       "     count      mean       std  min  25%  50%  75%   max\n",
       "age    9.0  7.777778  6.996031  3.0  4.0  5.0  6.0  20.0"
      ]
     },
     "execution_count": 35,
     "metadata": {},
     "output_type": "execute_result"
    }
   ],
   "source": [
    "stundetns_data.describe().T"
   ]
  },
  {
   "cell_type": "code",
   "execution_count": 36,
   "metadata": {},
   "outputs": [
    {
     "name": "stdout",
     "output_type": "stream",
     "text": [
      "outlier\n"
     ]
    }
   ],
   "source": [
    "Q1 = 3.75\n",
    "Q3 = 5.25\n",
    "\n",
    "if (20 > 6 * 1.5):\n",
    "    print('outlier')"
   ]
  },
  {
   "cell_type": "markdown",
   "metadata": {},
   "source": [
    "### Suspected outliers: how to detect outliers?\n",
    "---------------------------------------\n",
    "\n",
    "* Outliers are troublesome data points, and it is important to be able to identify them.\n",
    "* One way to raise the flag for a suspected outlier is to compare the distance from the suspicious data point to the nearest quartile (Q1 or Q3). \n",
    "* We then compare this distance to the interquartile range (distance between Q1 and Q3).\n",
    "* We call an observation a suspected outlier if it falls more than 1.5 times the size of the interquartile range (IQR) above the first quartile or below the third quartile. \n",
    "* **This is called the “1.5 * IQR rule for outliers.\"**"
   ]
  },
  {
   "cell_type": "markdown",
   "metadata": {},
   "source": [
    "### What are Inferential Statistics?\n",
    "---------------------------------------"
   ]
  },
  {
   "cell_type": "markdown",
   "metadata": {},
   "source": [
    "* Inferential statistics is one of the two main branches of statistics.\n",
    "* Inferential statistics use a random sample of data taken from a population to **describe** and make **inferences** about the **population.** \n",
    "* Inferential statistics are valuable when **examination of each member of an entire population is not convenient or possible. **\n",
    "    * For example, to measure the diameter of each nail that is manufactured in a mill is impractical. \n",
    "    * You can measure the diameters of a representative random sample of nails. \n",
    "    * You can use the information from the sample to make generalizations about the diameters of all of the nails.\n",
    "\n",
    "<img src='inferential_stats.png' height=300px, width=500px>"
   ]
  },
  {
   "cell_type": "markdown",
   "metadata": {},
   "source": [
    "### Commonly used Terms - Sample, Population\n",
    "---------------------------------------"
   ]
  },
  {
   "cell_type": "markdown",
   "metadata": {},
   "source": [
    "<img src='common_terms.png' height=300px, width=500px>"
   ]
  },
  {
   "cell_type": "markdown",
   "metadata": {},
   "source": [
    "### What is Hypothesis?\n",
    "---------------------------------------"
   ]
  },
  {
   "cell_type": "markdown",
   "metadata": {},
   "source": [
    "* Hypothesis is a theoretical statement concerning a certain feature of the studied statistical population."
   ]
  },
  {
   "cell_type": "markdown",
   "metadata": {},
   "source": [
    "### What is a test statistic?\n",
    "---------------------------------------"
   ]
  },
  {
   "cell_type": "markdown",
   "metadata": {},
   "source": [
    "* It is a numerical value calculated from our sample which forms a link between our sample and the null hypothesis."
   ]
  },
  {
   "cell_type": "markdown",
   "metadata": {},
   "source": [
    "### What is Hypothesis Testing?\n",
    "---------------------------------------"
   ]
  },
  {
   "cell_type": "markdown",
   "metadata": {},
   "source": [
    "* Hypothesis testing (or significance test): a procedure of assessing whether sample data is consistent with statements (hypotheses) made about the statistical population.\n",
    "* Briefly, we make a decision about the hypothesis on the basis of our sample data.\n",
    "* We want to get answers to questions starting typically like these:\n",
    "    * „Is there a difference between…”\n",
    "    * „Is there a relationship between…”"
   ]
  },
  {
   "cell_type": "markdown",
   "metadata": {},
   "source": [
    "### What are various Types of Hypotheses?\n",
    "---------------------------------------"
   ]
  },
  {
   "cell_type": "markdown",
   "metadata": {},
   "source": [
    "* There are two kinds of hypothesis:\n",
    "    * H1: the statement we actually want to test\n",
    "        * usually postulates a non-zero difference or relationship (called ‘alternative hypothesis’)\n",
    "        * E.g: „The mean weight of males and females are different.”\n",
    "    * H0: a statement which usually claims a zero difference or relationship against the H1 (called ‘null hypothesis’).\n",
    "        * E.g: „The mean weight of males and females are not different.”"
   ]
  },
  {
   "cell_type": "markdown",
   "metadata": {},
   "source": [
    "### Inferential Statistics - What is a confidence interval?\n",
    "---------------------------------------"
   ]
  },
  {
   "cell_type": "markdown",
   "metadata": {},
   "source": [
    "* A confidence interval is simply a way to measure how well your sample represents the population you are studying."
   ]
  },
  {
   "cell_type": "markdown",
   "metadata": {},
   "source": [
    "### What are the different types of Data?\n",
    "---------------------------------------"
   ]
  },
  {
   "cell_type": "markdown",
   "metadata": {},
   "source": [
    "<img src='types_of_data.png' height=350px, width=600px>"
   ]
  },
  {
   "cell_type": "markdown",
   "metadata": {},
   "source": [
    "### What are the different Levels of Measurement?\n",
    "---------------------------------------"
   ]
  },
  {
   "cell_type": "markdown",
   "metadata": {},
   "source": [
    "<img src='levels_of_measurement.png' height=350px, width=600px>"
   ]
  },
  {
   "cell_type": "markdown",
   "metadata": {},
   "source": [
    "### Skewed Vs. Symmetric Data\n",
    "---------------------------------------"
   ]
  },
  {
   "cell_type": "markdown",
   "metadata": {},
   "source": [
    "<img src='data_distributions.png' height=350px, width=600px>"
   ]
  },
  {
   "cell_type": "code",
   "execution_count": 3,
   "metadata": {},
   "outputs": [
    {
     "data": {
      "text/html": [
       "<div>\n",
       "<style scoped>\n",
       "    .dataframe tbody tr th:only-of-type {\n",
       "        vertical-align: middle;\n",
       "    }\n",
       "\n",
       "    .dataframe tbody tr th {\n",
       "        vertical-align: top;\n",
       "    }\n",
       "\n",
       "    .dataframe thead th {\n",
       "        text-align: right;\n",
       "    }\n",
       "</style>\n",
       "<table border=\"1\" class=\"dataframe\">\n",
       "  <thead>\n",
       "    <tr style=\"text-align: right;\">\n",
       "      <th></th>\n",
       "      <th>salaries</th>\n",
       "    </tr>\n",
       "  </thead>\n",
       "  <tbody>\n",
       "    <tr>\n",
       "      <th>0</th>\n",
       "      <td>2</td>\n",
       "    </tr>\n",
       "    <tr>\n",
       "      <th>1</th>\n",
       "      <td>3</td>\n",
       "    </tr>\n",
       "    <tr>\n",
       "      <th>2</th>\n",
       "      <td>2</td>\n",
       "    </tr>\n",
       "    <tr>\n",
       "      <th>3</th>\n",
       "      <td>3</td>\n",
       "    </tr>\n",
       "    <tr>\n",
       "      <th>4</th>\n",
       "      <td>2</td>\n",
       "    </tr>\n",
       "  </tbody>\n",
       "</table>\n",
       "</div>"
      ],
      "text/plain": [
       "   salaries\n",
       "0         2\n",
       "1         3\n",
       "2         2\n",
       "3         3\n",
       "4         2"
      ]
     },
     "execution_count": 3,
     "metadata": {},
     "output_type": "execute_result"
    }
   ],
   "source": [
    "import pandas as pd\n",
    "salries=[2,3,2,3,2,5,2,6,4,3,6,2,6,3,4,6,7,8,9,8,9,5,5,3,4,5,5,5,4,6]\n",
    "dataset=pd.DataFrame({'salaries':salries})\n",
    "dataset.head()"
   ]
  },
  {
   "cell_type": "code",
   "execution_count": 5,
   "metadata": {},
   "outputs": [
    {
     "data": {
      "text/html": [
       "<div>\n",
       "<style scoped>\n",
       "    .dataframe tbody tr th:only-of-type {\n",
       "        vertical-align: middle;\n",
       "    }\n",
       "\n",
       "    .dataframe tbody tr th {\n",
       "        vertical-align: top;\n",
       "    }\n",
       "\n",
       "    .dataframe thead th {\n",
       "        text-align: right;\n",
       "    }\n",
       "</style>\n",
       "<table border=\"1\" class=\"dataframe\">\n",
       "  <thead>\n",
       "    <tr style=\"text-align: right;\">\n",
       "      <th></th>\n",
       "      <th>count</th>\n",
       "      <th>mean</th>\n",
       "      <th>std</th>\n",
       "      <th>min</th>\n",
       "      <th>25%</th>\n",
       "      <th>50%</th>\n",
       "      <th>75%</th>\n",
       "      <th>max</th>\n",
       "    </tr>\n",
       "  </thead>\n",
       "  <tbody>\n",
       "    <tr>\n",
       "      <th>salaries</th>\n",
       "      <td>30.0</td>\n",
       "      <td>4.733333</td>\n",
       "      <td>2.083322</td>\n",
       "      <td>2.0</td>\n",
       "      <td>3.0</td>\n",
       "      <td>5.0</td>\n",
       "      <td>6.0</td>\n",
       "      <td>9.0</td>\n",
       "    </tr>\n",
       "  </tbody>\n",
       "</table>\n",
       "</div>"
      ],
      "text/plain": [
       "          count      mean       std  min  25%  50%  75%  max\n",
       "salaries   30.0  4.733333  2.083322  2.0  3.0  5.0  6.0  9.0"
      ]
     },
     "execution_count": 5,
     "metadata": {},
     "output_type": "execute_result"
    }
   ],
   "source": [
    "dataset.describe().T"
   ]
  },
  {
   "cell_type": "code",
   "execution_count": 7,
   "metadata": {},
   "outputs": [
    {
     "data": {
      "text/plain": [
       "<matplotlib.axes._subplots.AxesSubplot at 0x1130fc1d0>"
      ]
     },
     "execution_count": 7,
     "metadata": {},
     "output_type": "execute_result"
    },
    {
     "data": {
      "image/png": "[encoded data removed]",
      "text/plain": [
       "<Figure size 432x288 with 1 Axes>"
      ]
     },
     "metadata": {},
     "output_type": "display_data"
    }
   ],
   "source": [
    "%matplotlib inline\n",
    "dataset.salaries.value_counts().plot(kind='hist')"
   ]
  },
  {
   "cell_type": "code",
   "execution_count": 8,
   "metadata": {},
   "outputs": [
    {
     "data": {
      "text/plain": [
       "5    6\n",
       "6    5\n",
       "3    5\n",
       "2    5\n",
       "4    4\n",
       "9    2\n",
       "8    2\n",
       "7    1\n",
       "Name: salaries, dtype: int64"
      ]
     },
     "execution_count": 8,
     "metadata": {},
     "output_type": "execute_result"
    }
   ],
   "source": [
    "dataset.salaries.value_counts()"
   ]
  },
  {
   "cell_type": "markdown",
   "metadata": {},
   "source": [
    "### What are the measures of Symmetry?\n",
    "---------------------------------------"
   ]
  },
  {
   "cell_type": "markdown",
   "metadata": {},
   "source": [
    "* The **mean** is pulled toward the skew. \n",
    "\n",
    "<img src='skewed.png' height=300px, width=500px>"
   ]
  },
  {
   "cell_type": "markdown",
   "metadata": {},
   "source": [
    "### What are the Common Data Distributions?\n",
    "---------------------------------------\n",
    "* Discrete\n",
    "    * Symmetric\n",
    "        * Binomial Distribution\n",
    "        * Uniform Discrete Distribution\n",
    "    * Asymmetric a.k.a Skewed\n",
    "        * Geometric Distribution\n",
    "        * Negative Binomial Distribution\n",
    "        * Hypergeometric Distribution\n",
    "* Continues\n",
    "    * Symmetric\n",
    "        * Uniform a.k.a Multimodal Distribution\n",
    "        * Triangular Distribution\n",
    "        * Normal Distribution\n",
    "        * Cauchy Distribution\n",
    "    * Asymmetric or Skewed\n",
    "        * Exponential Distribution\n",
    "        * Lognormal Gamma Weibull Distribution\n",
    "        * Minimum Extreme Distribution\n",
    "<img src='common_data_distributions.png'>"
   ]
  },
  {
   "cell_type": "code",
   "execution_count": null,
   "metadata": {},
   "outputs": [],
   "source": [
    "# Discuss on Hyoergeo Metric Distribution in next class\n",
    "# pd.read_"
   ]
  },
  {
   "cell_type": "markdown",
   "metadata": {},
   "source": [
    "### How to perform data analysis?\n",
    "---------------------------------------"
   ]
  },
  {
   "cell_type": "markdown",
   "metadata": {},
   "source": [
    "**Guidelines:**\n",
    "* ALWAYS PLOT DATA BEFORE DECIDING ON A NUMERICAL SUMMARY.\n",
    "* **How to choose summary statistics?**\n",
    "* Use: 5-number summary is better than the median and s.d. for skewed data; \n",
    "* Use mean & s.d. for symmetric data."
   ]
  }
 ],
 "metadata": {
  "kernelspec": {
   "display_name": "Python 3",
   "language": "python",
   "name": "python3"
  },
  "language_info": {
   "codemirror_mode": {
    "name": "ipython",
    "version": 3
   },
   "file_extension": ".py",
   "mimetype": "text/x-python",
   "name": "python",
   "nbconvert_exporter": "python",
   "pygments_lexer": "ipython3",
   "version": "3.6.0"
  }
 },
 "nbformat": 4,
 "nbformat_minor": 4
}
